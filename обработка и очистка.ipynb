{
 "cells": [
  {
   "cell_type": "code",
   "execution_count": 5,
   "id": "6372dbf8",
   "metadata": {
    "scrolled": true
   },
   "outputs": [
    {
     "name": "stdout",
     "output_type": "stream",
     "text": [
      "Requirement already satisfied: numexpr in c:\\anaconda\\lib\\site-packages (2.10.1)\n",
      "Requirement already satisfied: bottleneck in c:\\users\\карина\\appdata\\roaming\\python\\python39\\site-packages (1.4.0)\n",
      "Requirement already satisfied: pandas in c:\\anaconda\\lib\\site-packages (2.2.2)\n",
      "Requirement already satisfied: openpyxl in c:\\anaconda\\lib\\site-packages (3.1.5)\n",
      "Requirement already satisfied: numpy>=1.23.0 in c:\\anaconda\\lib\\site-packages (from numexpr) (1.24.4)\n",
      "Requirement already satisfied: pytz>=2020.1 in c:\\anaconda\\lib\\site-packages (from pandas) (2022.1)\n",
      "Requirement already satisfied: python-dateutil>=2.8.2 in c:\\anaconda\\lib\\site-packages (from pandas) (2.8.2)\n",
      "Requirement already satisfied: tzdata>=2022.7 in c:\\anaconda\\lib\\site-packages (from pandas) (2023.3)\n",
      "Requirement already satisfied: et-xmlfile in c:\\anaconda\\lib\\site-packages (from openpyxl) (1.1.0)\n",
      "Requirement already satisfied: six>=1.5 in c:\\anaconda\\lib\\site-packages (from python-dateutil>=2.8.2->pandas) (1.16.0)\n"
     ]
    }
   ],
   "source": [
    "!pip3 install --upgrade --user numexpr bottleneck pandas openpyxl\n"
   ]
  },
  {
   "cell_type": "code",
   "execution_count": 12,
   "id": "ee8f3b3b",
   "metadata": {},
   "outputs": [
    {
     "data": {
      "text/html": [
       "<div>\n",
       "<style scoped>\n",
       "    .dataframe tbody tr th:only-of-type {\n",
       "        vertical-align: middle;\n",
       "    }\n",
       "\n",
       "    .dataframe tbody tr th {\n",
       "        vertical-align: top;\n",
       "    }\n",
       "\n",
       "    .dataframe thead th {\n",
       "        text-align: right;\n",
       "    }\n",
       "</style>\n",
       "<table border=\"1\" class=\"dataframe\">\n",
       "  <thead>\n",
       "    <tr style=\"text-align: right;\">\n",
       "      <th></th>\n",
       "      <th>author</th>\n",
       "      <th>title</th>\n",
       "      <th>comment</th>\n",
       "      <th>curriculum</th>\n",
       "      <th>id</th>\n",
       "      <th>year</th>\n",
       "      <th>grade</th>\n",
       "      <th>priority</th>\n",
       "    </tr>\n",
       "  </thead>\n",
       "  <tbody>\n",
       "    <tr>\n",
       "      <th>0</th>\n",
       "      <td>Андреев Л.Н.</td>\n",
       "      <td>Жили-были</td>\n",
       "      <td>NaN</td>\n",
       "      <td>19 ИРЛ 2 ст</td>\n",
       "      <td>1</td>\n",
       "      <td>1919</td>\n",
       "      <td>9</td>\n",
       "      <td>NaN</td>\n",
       "    </tr>\n",
       "    <tr>\n",
       "      <th>1</th>\n",
       "      <td>Андреев Л.Н.</td>\n",
       "      <td>Иуда</td>\n",
       "      <td>NaN</td>\n",
       "      <td>19 ИРЛ 2 ст</td>\n",
       "      <td>1</td>\n",
       "      <td>1919</td>\n",
       "      <td>9</td>\n",
       "      <td>NaN</td>\n",
       "    </tr>\n",
       "    <tr>\n",
       "      <th>2</th>\n",
       "      <td>Андреев Л.Н.</td>\n",
       "      <td>Рассказ о семи повешенных</td>\n",
       "      <td>NaN</td>\n",
       "      <td>19 ИРЛ 2 ст</td>\n",
       "      <td>1</td>\n",
       "      <td>1919</td>\n",
       "      <td>9</td>\n",
       "      <td>*</td>\n",
       "    </tr>\n",
       "    <tr>\n",
       "      <th>3</th>\n",
       "      <td>Бальмонт К.Д.</td>\n",
       "      <td>NaN</td>\n",
       "      <td>NaN</td>\n",
       "      <td>19 ИРЛ 2 ст</td>\n",
       "      <td>1</td>\n",
       "      <td>1919</td>\n",
       "      <td>9</td>\n",
       "      <td>*</td>\n",
       "    </tr>\n",
       "    <tr>\n",
       "      <th>4</th>\n",
       "      <td>Брюсов В.Я.</td>\n",
       "      <td>NaN</td>\n",
       "      <td>NaN</td>\n",
       "      <td>19 ИРЛ 2 ст</td>\n",
       "      <td>1</td>\n",
       "      <td>1919</td>\n",
       "      <td>9</td>\n",
       "      <td>*</td>\n",
       "    </tr>\n",
       "    <tr>\n",
       "      <th>...</th>\n",
       "      <td>...</td>\n",
       "      <td>...</td>\n",
       "      <td>...</td>\n",
       "      <td>...</td>\n",
       "      <td>...</td>\n",
       "      <td>...</td>\n",
       "      <td>...</td>\n",
       "      <td>...</td>\n",
       "    </tr>\n",
       "    <tr>\n",
       "      <th>10301</th>\n",
       "      <td>Шиллер Ф.</td>\n",
       "      <td>Разбойники</td>\n",
       "      <td>NaN</td>\n",
       "      <td>91 ПСОУЗ</td>\n",
       "      <td>50</td>\n",
       "      <td>1991</td>\n",
       "      <td>9</td>\n",
       "      <td>NaN</td>\n",
       "    </tr>\n",
       "    <tr>\n",
       "      <th>10302</th>\n",
       "      <td>Эсхил</td>\n",
       "      <td>Прометей прикованный</td>\n",
       "      <td>NaN</td>\n",
       "      <td>91 ПСОУЗ</td>\n",
       "      <td>50</td>\n",
       "      <td>1991</td>\n",
       "      <td>9</td>\n",
       "      <td>NaN</td>\n",
       "    </tr>\n",
       "    <tr>\n",
       "      <th>10303</th>\n",
       "      <td>Достоевский Ф.М.</td>\n",
       "      <td>Преступление и наказание</td>\n",
       "      <td>NaN</td>\n",
       "      <td>91 ПСОУЗ</td>\n",
       "      <td>50</td>\n",
       "      <td>1991</td>\n",
       "      <td>10</td>\n",
       "      <td>NaN</td>\n",
       "    </tr>\n",
       "    <tr>\n",
       "      <th>10304</th>\n",
       "      <td>Куприн А.И.</td>\n",
       "      <td>Гранатовый браслет</td>\n",
       "      <td>NaN</td>\n",
       "      <td>91 ПСОУЗ</td>\n",
       "      <td>50</td>\n",
       "      <td>1991</td>\n",
       "      <td>11</td>\n",
       "      <td>*</td>\n",
       "    </tr>\n",
       "    <tr>\n",
       "      <th>10305</th>\n",
       "      <td>Некрасов Н.А.</td>\n",
       "      <td>Коробейники</td>\n",
       "      <td>NaN</td>\n",
       "      <td>91 ПСОУЗ</td>\n",
       "      <td>50</td>\n",
       "      <td>1991</td>\n",
       "      <td>10</td>\n",
       "      <td>*</td>\n",
       "    </tr>\n",
       "  </tbody>\n",
       "</table>\n",
       "<p>10306 rows × 8 columns</p>\n",
       "</div>"
      ],
      "text/plain": [
       "                 author                      title comment   curriculum  id  \\\n",
       "0          Андреев Л.Н.                  Жили-были     NaN  19 ИРЛ 2 ст   1   \n",
       "1          Андреев Л.Н.                       Иуда     NaN  19 ИРЛ 2 ст   1   \n",
       "2          Андреев Л.Н.  Рассказ о семи повешенных     NaN  19 ИРЛ 2 ст   1   \n",
       "3         Бальмонт К.Д.                        NaN     NaN  19 ИРЛ 2 ст   1   \n",
       "4           Брюсов В.Я.                        NaN     NaN  19 ИРЛ 2 ст   1   \n",
       "...                 ...                        ...     ...          ...  ..   \n",
       "10301         Шиллер Ф.                 Разбойники     NaN     91 ПСОУЗ  50   \n",
       "10302             Эсхил       Прометей прикованный     NaN     91 ПСОУЗ  50   \n",
       "10303  Достоевский Ф.М.   Преступление и наказание     NaN     91 ПСОУЗ  50   \n",
       "10304       Куприн А.И.         Гранатовый браслет     NaN     91 ПСОУЗ  50   \n",
       "10305     Некрасов Н.А.                Коробейники     NaN     91 ПСОУЗ  50   \n",
       "\n",
       "       year  grade priority  \n",
       "0      1919      9      NaN  \n",
       "1      1919      9      NaN  \n",
       "2      1919      9        *  \n",
       "3      1919      9        *  \n",
       "4      1919      9        *  \n",
       "...     ...    ...      ...  \n",
       "10301  1991      9      NaN  \n",
       "10302  1991      9      NaN  \n",
       "10303  1991     10      NaN  \n",
       "10304  1991     11        *  \n",
       "10305  1991     10        *  \n",
       "\n",
       "[10306 rows x 8 columns]"
      ]
     },
     "execution_count": 12,
     "metadata": {},
     "output_type": "execute_result"
    }
   ],
   "source": [
    "import pandas as pd\n",
    "\n",
    "df = pd.read_csv('curricula_backup.tsv', sep='\\t')\n",
    "df"
   ]
  },
  {
   "cell_type": "markdown",
   "id": "15587fb7",
   "metadata": {},
   "source": [
    "1938 и 1939 гг. \n",
    "1962 и 1963 гг.   \n",
    "1966 и 1967 гг.\n",
    "1967 и 1972 гг."
   ]
  },
  {
   "cell_type": "code",
   "execution_count": 13,
   "id": "1d7b4fdd",
   "metadata": {
    "scrolled": true
   },
   "outputs": [
    {
     "data": {
      "text/plain": [
       "11"
      ]
     },
     "execution_count": 13,
     "metadata": {},
     "output_type": "execute_result"
    }
   ],
   "source": [
    "df.duplicated().sum()"
   ]
  },
  {
   "cell_type": "code",
   "execution_count": 14,
   "id": "74c91c3f",
   "metadata": {},
   "outputs": [
    {
     "data": {
      "text/plain": [
       "(10306, 8)"
      ]
     },
     "execution_count": 14,
     "metadata": {},
     "output_type": "execute_result"
    }
   ],
   "source": [
    "df.shape"
   ]
  },
  {
   "cell_type": "code",
   "execution_count": 16,
   "id": "88839222",
   "metadata": {},
   "outputs": [],
   "source": [
    "df.drop_duplicates(inplace = True)"
   ]
  },
  {
   "cell_type": "code",
   "execution_count": 17,
   "id": "96dae460",
   "metadata": {},
   "outputs": [
    {
     "data": {
      "text/plain": [
       "(10295, 8)"
      ]
     },
     "execution_count": 17,
     "metadata": {},
     "output_type": "execute_result"
    }
   ],
   "source": [
    "df.shape"
   ]
  },
  {
   "cell_type": "code",
   "execution_count": 18,
   "id": "149e1ee0",
   "metadata": {
    "scrolled": true
   },
   "outputs": [
    {
     "name": "stdout",
     "output_type": "stream",
     "text": [
      "<class 'pandas.core.frame.DataFrame'>\n",
      "Index: 10295 entries, 0 to 10305\n",
      "Data columns (total 8 columns):\n",
      " #   Column      Non-Null Count  Dtype \n",
      "---  ------      --------------  ----- \n",
      " 0   author      10034 non-null  object\n",
      " 1   title       8752 non-null   object\n",
      " 2   comment     443 non-null    object\n",
      " 3   curriculum  10295 non-null  object\n",
      " 4   id          10295 non-null  int64 \n",
      " 5   year        10295 non-null  object\n",
      " 6   grade       10295 non-null  int64 \n",
      " 7   priority    5658 non-null   object\n",
      "dtypes: int64(2), object(6)\n",
      "memory usage: 723.9+ KB\n"
     ]
    }
   ],
   "source": [
    "df.info()"
   ]
  },
  {
   "cell_type": "code",
   "execution_count": 28,
   "id": "a72f29ec",
   "metadata": {},
   "outputs": [
    {
     "data": {
      "text/plain": [
       "0.09305488101019913"
      ]
     },
     "execution_count": 28,
     "metadata": {},
     "output_type": "execute_result"
    }
   ],
   "source": [
    "years = ['1937-38', '1939', '1962', '1963', '1966', '1967', '1967', '1972']\n",
    "df[df['year'].isin(years)].shape[0]/df.shape[0]"
   ]
  },
  {
   "cell_type": "code",
   "execution_count": 24,
   "id": "db7c5465",
   "metadata": {},
   "outputs": [
    {
     "data": {
      "text/plain": [
       "year\n",
       "1991       519\n",
       "1940       376\n",
       "1939       375\n",
       "1933       341\n",
       "1982       282\n",
       "1984       282\n",
       "1983       281\n",
       "1988       278\n",
       "1987       278\n",
       "1986       278\n",
       "1985       278\n",
       "1949       276\n",
       "1950       273\n",
       "1980       269\n",
       "1981       265\n",
       "1979       265\n",
       "1975       264\n",
       "1974       264\n",
       "1978       264\n",
       "1977       264\n",
       "1976       264\n",
       "1951       263\n",
       "1941       263\n",
       "1942       231\n",
       "1934       214\n",
       "1946       204\n",
       "1948       200\n",
       "1922       191\n",
       "1973       188\n",
       "1972       187\n",
       "1944       187\n",
       "1947       185\n",
       "1919       160\n",
       "1932       122\n",
       "1964       116\n",
       "1956       114\n",
       "1963       113\n",
       "1954       109\n",
       "1965       107\n",
       "1938       107\n",
       "1966       104\n",
       "1960       103\n",
       "1959       103\n",
       "1958       103\n",
       "1957       103\n",
       "1961       103\n",
       "1967       102\n",
       "1962        65\n",
       "1937-38     12\n",
       "Name: count, dtype: int64"
      ]
     },
     "execution_count": 24,
     "metadata": {},
     "output_type": "execute_result"
    }
   ],
   "source": [
    "df['year'].value_counts()"
   ]
  },
  {
   "cell_type": "markdown",
   "id": "f46f1486",
   "metadata": {},
   "source": [
    "удаленный датасет - df_del (10% удалено примерно)  \n",
    "df - все годы"
   ]
  },
  {
   "cell_type": "code",
   "execution_count": 29,
   "id": "dcd5c26f",
   "metadata": {
    "scrolled": true
   },
   "outputs": [
    {
     "data": {
      "text/plain": [
       "year\n",
       "1991    519\n",
       "1940    376\n",
       "1933    341\n",
       "1984    282\n",
       "1982    282\n",
       "1983    281\n",
       "1986    278\n",
       "1985    278\n",
       "1987    278\n",
       "1988    278\n",
       "1949    276\n",
       "1950    273\n",
       "1980    269\n",
       "1981    265\n",
       "1979    265\n",
       "1974    264\n",
       "1975    264\n",
       "1976    264\n",
       "1977    264\n",
       "1978    264\n",
       "1941    263\n",
       "1951    263\n",
       "1942    231\n",
       "1934    214\n",
       "1946    204\n",
       "1948    200\n",
       "1922    191\n",
       "1973    188\n",
       "1944    187\n",
       "1947    185\n",
       "1919    160\n",
       "1932    122\n",
       "1964    116\n",
       "1956    114\n",
       "1954    109\n",
       "1965    107\n",
       "1938    107\n",
       "1961    103\n",
       "1959    103\n",
       "1958    103\n",
       "1957    103\n",
       "1960    103\n",
       "Name: count, dtype: int64"
      ]
     },
     "execution_count": 29,
     "metadata": {},
     "output_type": "execute_result"
    }
   ],
   "source": [
    "df_del = df.drop(df[df['year'].isin(years)].index)\n",
    "df_del.year.value_counts()"
   ]
  },
  {
   "cell_type": "code",
   "execution_count": 30,
   "id": "98eaedd6",
   "metadata": {},
   "outputs": [
    {
     "data": {
      "text/plain": [
       "(9337, 8)"
      ]
     },
     "execution_count": 30,
     "metadata": {},
     "output_type": "execute_result"
    }
   ],
   "source": [
    "df_del.shape"
   ]
  },
  {
   "cell_type": "code",
   "execution_count": 31,
   "id": "f670b242",
   "metadata": {},
   "outputs": [],
   "source": [
    "df['year'] = df['year'].apply(lambda x: 1937 if x == '1937-38' else x)"
   ]
  },
  {
   "cell_type": "code",
   "execution_count": 32,
   "id": "541678f3",
   "metadata": {},
   "outputs": [
    {
     "data": {
      "text/plain": [
       "year\n",
       "1991    519\n",
       "1940    376\n",
       "1933    341\n",
       "1984    282\n",
       "1982    282\n",
       "1983    281\n",
       "1986    278\n",
       "1985    278\n",
       "1987    278\n",
       "1988    278\n",
       "1949    276\n",
       "1950    273\n",
       "1980    269\n",
       "1981    265\n",
       "1979    265\n",
       "1974    264\n",
       "1975    264\n",
       "1976    264\n",
       "1977    264\n",
       "1978    264\n",
       "1941    263\n",
       "1951    263\n",
       "1942    231\n",
       "1934    214\n",
       "1946    204\n",
       "1948    200\n",
       "1922    191\n",
       "1973    188\n",
       "1944    187\n",
       "1947    185\n",
       "1919    160\n",
       "1932    122\n",
       "1964    116\n",
       "1956    114\n",
       "1954    109\n",
       "1965    107\n",
       "1938    107\n",
       "1961    103\n",
       "1959    103\n",
       "1958    103\n",
       "1957    103\n",
       "1960    103\n",
       "Name: count, dtype: int64"
      ]
     },
     "execution_count": 32,
     "metadata": {},
     "output_type": "execute_result"
    }
   ],
   "source": [
    "df_del.year.value_counts()"
   ]
  },
  {
   "cell_type": "code",
   "execution_count": 33,
   "id": "d5c22708",
   "metadata": {
    "scrolled": true
   },
   "outputs": [],
   "source": [
    "import datetime as dt\n",
    "df_del['year'] = pd.to_datetime(df_del['year'], format='%Y').dt.year\n",
    "df['year'] = pd.to_datetime(df['year'], format='%Y').dt.year"
   ]
  },
  {
   "cell_type": "code",
   "execution_count": 35,
   "id": "832ca2bb",
   "metadata": {},
   "outputs": [],
   "source": [
    "df_del.to_csv('del_s4.csv')\n",
    "df.to_csv('s4.csv')"
   ]
  },
  {
   "cell_type": "code",
   "execution_count": 6,
   "id": "525d1ada",
   "metadata": {},
   "outputs": [],
   "source": [
    "df = pd.read_csv('s4.csv')"
   ]
  },
  {
   "cell_type": "code",
   "execution_count": 36,
   "id": "4cd76518",
   "metadata": {},
   "outputs": [
    {
     "data": {
      "text/html": [
       "<div>\n",
       "<style scoped>\n",
       "    .dataframe tbody tr th:only-of-type {\n",
       "        vertical-align: middle;\n",
       "    }\n",
       "\n",
       "    .dataframe tbody tr th {\n",
       "        vertical-align: top;\n",
       "    }\n",
       "\n",
       "    .dataframe thead th {\n",
       "        text-align: right;\n",
       "    }\n",
       "</style>\n",
       "<table border=\"1\" class=\"dataframe\">\n",
       "  <thead>\n",
       "    <tr style=\"text-align: right;\">\n",
       "      <th></th>\n",
       "      <th>author</th>\n",
       "      <th>title</th>\n",
       "      <th>comment</th>\n",
       "      <th>curriculum</th>\n",
       "      <th>id</th>\n",
       "      <th>year</th>\n",
       "      <th>grade</th>\n",
       "      <th>priority</th>\n",
       "    </tr>\n",
       "  </thead>\n",
       "  <tbody>\n",
       "    <tr>\n",
       "      <th>0</th>\n",
       "      <td>Андреев Л.Н.</td>\n",
       "      <td>Жили-были</td>\n",
       "      <td>NaN</td>\n",
       "      <td>19 ИРЛ 2 ст</td>\n",
       "      <td>1</td>\n",
       "      <td>1919</td>\n",
       "      <td>9</td>\n",
       "      <td>NaN</td>\n",
       "    </tr>\n",
       "    <tr>\n",
       "      <th>1</th>\n",
       "      <td>Андреев Л.Н.</td>\n",
       "      <td>Иуда</td>\n",
       "      <td>NaN</td>\n",
       "      <td>19 ИРЛ 2 ст</td>\n",
       "      <td>1</td>\n",
       "      <td>1919</td>\n",
       "      <td>9</td>\n",
       "      <td>NaN</td>\n",
       "    </tr>\n",
       "    <tr>\n",
       "      <th>2</th>\n",
       "      <td>Андреев Л.Н.</td>\n",
       "      <td>Рассказ о семи повешенных</td>\n",
       "      <td>NaN</td>\n",
       "      <td>19 ИРЛ 2 ст</td>\n",
       "      <td>1</td>\n",
       "      <td>1919</td>\n",
       "      <td>9</td>\n",
       "      <td>*</td>\n",
       "    </tr>\n",
       "    <tr>\n",
       "      <th>3</th>\n",
       "      <td>Бальмонт К.Д.</td>\n",
       "      <td>NaN</td>\n",
       "      <td>NaN</td>\n",
       "      <td>19 ИРЛ 2 ст</td>\n",
       "      <td>1</td>\n",
       "      <td>1919</td>\n",
       "      <td>9</td>\n",
       "      <td>*</td>\n",
       "    </tr>\n",
       "    <tr>\n",
       "      <th>4</th>\n",
       "      <td>Брюсов В.Я.</td>\n",
       "      <td>NaN</td>\n",
       "      <td>NaN</td>\n",
       "      <td>19 ИРЛ 2 ст</td>\n",
       "      <td>1</td>\n",
       "      <td>1919</td>\n",
       "      <td>9</td>\n",
       "      <td>*</td>\n",
       "    </tr>\n",
       "    <tr>\n",
       "      <th>...</th>\n",
       "      <td>...</td>\n",
       "      <td>...</td>\n",
       "      <td>...</td>\n",
       "      <td>...</td>\n",
       "      <td>...</td>\n",
       "      <td>...</td>\n",
       "      <td>...</td>\n",
       "      <td>...</td>\n",
       "    </tr>\n",
       "    <tr>\n",
       "      <th>10301</th>\n",
       "      <td>Шиллер Ф.</td>\n",
       "      <td>Разбойники</td>\n",
       "      <td>NaN</td>\n",
       "      <td>91 ПСОУЗ</td>\n",
       "      <td>50</td>\n",
       "      <td>1991</td>\n",
       "      <td>9</td>\n",
       "      <td>NaN</td>\n",
       "    </tr>\n",
       "    <tr>\n",
       "      <th>10302</th>\n",
       "      <td>Эсхил</td>\n",
       "      <td>Прометей прикованный</td>\n",
       "      <td>NaN</td>\n",
       "      <td>91 ПСОУЗ</td>\n",
       "      <td>50</td>\n",
       "      <td>1991</td>\n",
       "      <td>9</td>\n",
       "      <td>NaN</td>\n",
       "    </tr>\n",
       "    <tr>\n",
       "      <th>10303</th>\n",
       "      <td>Достоевский Ф.М.</td>\n",
       "      <td>Преступление и наказание</td>\n",
       "      <td>NaN</td>\n",
       "      <td>91 ПСОУЗ</td>\n",
       "      <td>50</td>\n",
       "      <td>1991</td>\n",
       "      <td>10</td>\n",
       "      <td>NaN</td>\n",
       "    </tr>\n",
       "    <tr>\n",
       "      <th>10304</th>\n",
       "      <td>Куприн А.И.</td>\n",
       "      <td>Гранатовый браслет</td>\n",
       "      <td>NaN</td>\n",
       "      <td>91 ПСОУЗ</td>\n",
       "      <td>50</td>\n",
       "      <td>1991</td>\n",
       "      <td>11</td>\n",
       "      <td>*</td>\n",
       "    </tr>\n",
       "    <tr>\n",
       "      <th>10305</th>\n",
       "      <td>Некрасов Н.А.</td>\n",
       "      <td>Коробейники</td>\n",
       "      <td>NaN</td>\n",
       "      <td>91 ПСОУЗ</td>\n",
       "      <td>50</td>\n",
       "      <td>1991</td>\n",
       "      <td>10</td>\n",
       "      <td>*</td>\n",
       "    </tr>\n",
       "  </tbody>\n",
       "</table>\n",
       "<p>10295 rows × 8 columns</p>\n",
       "</div>"
      ],
      "text/plain": [
       "                 author                      title comment   curriculum  id  \\\n",
       "0          Андреев Л.Н.                  Жили-были     NaN  19 ИРЛ 2 ст   1   \n",
       "1          Андреев Л.Н.                       Иуда     NaN  19 ИРЛ 2 ст   1   \n",
       "2          Андреев Л.Н.  Рассказ о семи повешенных     NaN  19 ИРЛ 2 ст   1   \n",
       "3         Бальмонт К.Д.                        NaN     NaN  19 ИРЛ 2 ст   1   \n",
       "4           Брюсов В.Я.                        NaN     NaN  19 ИРЛ 2 ст   1   \n",
       "...                 ...                        ...     ...          ...  ..   \n",
       "10301         Шиллер Ф.                 Разбойники     NaN     91 ПСОУЗ  50   \n",
       "10302             Эсхил       Прометей прикованный     NaN     91 ПСОУЗ  50   \n",
       "10303  Достоевский Ф.М.   Преступление и наказание     NaN     91 ПСОУЗ  50   \n",
       "10304       Куприн А.И.         Гранатовый браслет     NaN     91 ПСОУЗ  50   \n",
       "10305     Некрасов Н.А.                Коробейники     NaN     91 ПСОУЗ  50   \n",
       "\n",
       "       year  grade priority  \n",
       "0      1919      9      NaN  \n",
       "1      1919      9      NaN  \n",
       "2      1919      9        *  \n",
       "3      1919      9        *  \n",
       "4      1919      9        *  \n",
       "...     ...    ...      ...  \n",
       "10301  1991      9      NaN  \n",
       "10302  1991      9      NaN  \n",
       "10303  1991     10      NaN  \n",
       "10304  1991     11        *  \n",
       "10305  1991     10        *  \n",
       "\n",
       "[10295 rows x 8 columns]"
      ]
     },
     "execution_count": 36,
     "metadata": {},
     "output_type": "execute_result"
    }
   ],
   "source": [
    "df"
   ]
  }
 ],
 "metadata": {
  "kernelspec": {
   "display_name": "Python 3 (ipykernel)",
   "language": "python",
   "name": "python3"
  },
  "language_info": {
   "codemirror_mode": {
    "name": "ipython",
    "version": 3
   },
   "file_extension": ".py",
   "mimetype": "text/x-python",
   "name": "python",
   "nbconvert_exporter": "python",
   "pygments_lexer": "ipython3",
   "version": "3.9.13"
  }
 },
 "nbformat": 4,
 "nbformat_minor": 5
}
